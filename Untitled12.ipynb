{
  "nbformat": 4,
  "nbformat_minor": 0,
  "metadata": {
    "colab": {
      "name": "Untitled12.ipynb",
      "provenance": []
    },
    "kernelspec": {
      "name": "python3",
      "display_name": "Python 3"
    },
    "language_info": {
      "name": "python"
    }
  },
  "cells": [
    {
      "cell_type": "code",
      "source": [
        "from difflib import SequenceMatcher "
      ],
      "metadata": {
        "id": "K0fH2jQxvd5M"
      },
      "execution_count": 25,
      "outputs": []
    },
    {
      "cell_type": "code",
      "source": [
        "def similar(a,b):\n",
        "  return SequenceMatcher(None,a,b).ratio()"
      ],
      "metadata": {
        "id": "2Q-7KO-Wvmie"
      },
      "execution_count": 26,
      "outputs": []
    },
    {
      "cell_type": "code",
      "source": [
        "c=input(\"Enter the first String:\")\n",
        "d=input(\"Enter the second String:\")"
      ],
      "metadata": {
        "colab": {
          "base_uri": "https://localhost:8080/"
        },
        "id": "GnVafDkjv7_L",
        "outputId": "408fe599-e5ec-4d22-9007-bbf941abd3c7"
      },
      "execution_count": 29,
      "outputs": [
        {
          "name": "stdout",
          "output_type": "stream",
          "text": [
            "Enter the first String:Hello, I am Pratham.\n",
            "Enter the second String:Hello, I am Rana.\n"
          ]
        }
      ]
    },
    {
      "cell_type": "code",
      "source": [
        "print(similar(c,d))"
      ],
      "metadata": {
        "colab": {
          "base_uri": "https://localhost:8080/"
        },
        "id": "n_SLKpfcxupc",
        "outputId": "a06cd9be-eb9f-40a3-be62-e5afb57bb65f"
      },
      "execution_count": 30,
      "outputs": [
        {
          "output_type": "stream",
          "name": "stdout",
          "text": [
            "0.8108108108108109\n"
          ]
        }
      ]
    }
  ]
}